{
  "nbformat": 4,
  "nbformat_minor": 0,
  "metadata": {
    "colab": {
      "name": "catvsdog_analysis.ipynb",
      "provenance": []
    },
    "kernelspec": {
      "name": "python3",
      "display_name": "Python 3"
    },
    "accelerator": "GPU"
  },
  "cells": [
    {
      "cell_type": "code",
      "metadata": {
        "id": "cY9hoJSFBCRb",
        "colab_type": "code",
        "colab": {
          "base_uri": "https://localhost:8080/",
          "height": 34
        },
        "outputId": "5dc2f9d0-2b91-4eb0-9eb1-78e192bd35fa"
      },
      "source": [
        "##Import library##\n",
        "from __future__ import absolute_import, division, print_function, unicode_literals\n",
        "try:\n",
        "  # %tensorflow_version only exists in Colab.\n",
        "  %tensorflow_version 2.x\n",
        "except Exception:\n",
        "  pass\n",
        "import tensorflow as tf\n",
        "from tensorflow.keras.models import Sequential\n",
        "from tensorflow.keras.layers import Dense, Conv2D, Flatten, Dropout, MaxPooling2D\n",
        "from tensorflow.keras.preprocessing.image import ImageDataGenerator\n",
        "import os\n",
        "import numpy as np\n",
        "import matplotlib.pyplot as plt"
      ],
      "execution_count": 4,
      "outputs": [
        {
          "output_type": "stream",
          "text": [
            "TensorFlow 2.x selected.\n"
          ],
          "name": "stdout"
        }
      ]
    },
    {
      "cell_type": "markdown",
      "metadata": {
        "id": "_FC8xtDnwjYF",
        "colab_type": "text"
      },
      "source": [
        "***Data Processing***"
      ]
    },
    {
      "cell_type": "code",
      "metadata": {
        "id": "DuM8vVSABGKk",
        "colab_type": "code",
        "colab": {}
      },
      "source": [
        "##Load data##\n",
        "_URL = 'https://storage.googleapis.com/mledu-datasets/cats_and_dogs_filtered.zip'\n",
        "path_to_zip = tf.keras.utils.get_file('cats_and_dogs.zip', origin=_URL, extract=True)\n",
        "PATH = os.path.join(os.path.dirname(path_to_zip), 'cats_and_dogs_filtered')"
      ],
      "execution_count": 0,
      "outputs": []
    },
    {
      "cell_type": "code",
      "metadata": {
        "id": "H_-DUA91BXYJ",
        "colab_type": "code",
        "colab": {
          "base_uri": "https://localhost:8080/",
          "height": 136
        },
        "outputId": "af5f9db7-ae2d-4cf5-df2c-9ff4da836f4e"
      },
      "source": [
        "##Data directories##\n",
        "train_dir = os.path.join(PATH, 'train')\n",
        "validation_dir = os.path.join(PATH, 'validation')\n",
        "train_cats_dir = os.path.join(train_dir, 'cats')  # directory with our training cat pictures\n",
        "train_dogs_dir = os.path.join(train_dir, 'dogs')  # directory with our training dog pictures\n",
        "validation_cats_dir = os.path.join(validation_dir, 'cats')  # directory with our validation cat pictures\n",
        "validation_dogs_dir = os.path.join(validation_dir, 'dogs')  # directory with our validation dog pictures\n",
        "\n",
        "##Glancing at the data##\n",
        "num_cats_tr = len(os.listdir(train_cats_dir))\n",
        "num_dogs_tr = len(os.listdir(train_dogs_dir))\n",
        "\n",
        "num_cats_val = len(os.listdir(validation_cats_dir))\n",
        "num_dogs_val = len(os.listdir(validation_dogs_dir))\n",
        "\n",
        "total_train = num_cats_tr + num_dogs_tr\n",
        "total_val = num_cats_val + num_dogs_val\n",
        "\n",
        "print('total training cat images:', num_cats_tr)\n",
        "print('total training dog images:', num_dogs_tr)\n",
        "\n",
        "print('total validation cat images:', num_cats_val)\n",
        "print('total validation dog images:', num_dogs_val)\n",
        "print(\"--\")\n",
        "print(\"Total training images:\", total_train)\n",
        "print(\"Total validation images:\", total_val)"
      ],
      "execution_count": 7,
      "outputs": [
        {
          "output_type": "stream",
          "text": [
            "total training cat images: 1000\n",
            "total training dog images: 1000\n",
            "total validation cat images: 500\n",
            "total validation dog images: 500\n",
            "--\n",
            "Total training images: 2000\n",
            "Total validation images: 1000\n"
          ],
          "name": "stdout"
        }
      ]
    },
    {
      "cell_type": "code",
      "metadata": {
        "id": "tiaxoonOB5hA",
        "colab_type": "code",
        "colab": {
          "base_uri": "https://localhost:8080/",
          "height": 187
        },
        "outputId": "ad8d3abe-e3d0-47a8-a508-caaae7c9a302"
      },
      "source": [
        "##Setting up##\n",
        "IMG_HEIGHT = 64\n",
        "IMG_WIDTH = 64\n",
        "\n",
        "##Data preparation##\n",
        "train_image_generator = ImageDataGenerator(rescale=1./255) # Generator for our training data\n",
        "validation_image_generator = ImageDataGenerator(rescale=1./255) # Generator for our validation data\n",
        "\n",
        "train_data_gen = train_image_generator.flow_from_directory(batch_size=total_train,\n",
        "                                                           directory=train_dir,\n",
        "                                                           shuffle=True,\n",
        "                                                           target_size=(IMG_HEIGHT, IMG_WIDTH),\n",
        "                                                           class_mode='binary')\n",
        "\n",
        "val_data_gen = validation_image_generator.flow_from_directory(batch_size=total_val,\n",
        "                                                              directory=validation_dir,\n",
        "                                                              target_size=(IMG_HEIGHT, IMG_WIDTH),\n",
        "                                                              class_mode='binary')\n",
        "\n",
        "##Format data for scikit format##\n",
        "def prep_data(images):\n",
        "  x,y = next(images)\n",
        "  m = len(y)\n",
        "  n_x = IMG_HEIGHT*IMG_WIDTH*3\n",
        "  \n",
        "  ##Need to reshape picture into this array format##\n",
        "  X = np.ndarray((n_x,m), dtype=np.float)\n",
        "  for i in range(m):\n",
        "    X[:,i] = np.squeeze(x[i].reshape((n_x,1)))\n",
        "    \n",
        "    if i%500 == 0 :\n",
        "      print(\"Proceed {} of {}\".format(i, m))\n",
        "  return X,y\n",
        "\n",
        "X_train, y_train = prep_data(train_data_gen)\n",
        "X_val, y_val = prep_data(val_data_gen)\n",
        "print(\"Train shape: {}\".format(X_train.shape))\n",
        "print(\"Val shape: {}\".format(X_val.shape))"
      ],
      "execution_count": 9,
      "outputs": [
        {
          "output_type": "stream",
          "text": [
            "Found 2000 images belonging to 2 classes.\n",
            "Found 1000 images belonging to 2 classes.\n",
            "Proceed 0 of 2000\n",
            "Proceed 500 of 2000\n",
            "Proceed 1000 of 2000\n",
            "Proceed 1500 of 2000\n",
            "Proceed 0 of 1000\n",
            "Proceed 500 of 1000\n",
            "Train shape: (12288, 2000)\n",
            "Val shape: (12288, 1000)\n"
          ],
          "name": "stdout"
        }
      ]
    },
    {
      "cell_type": "code",
      "metadata": {
        "id": "95PGBK-VRk23",
        "colab_type": "code",
        "colab": {
          "base_uri": "https://localhost:8080/",
          "height": 281
        },
        "outputId": "be3c4d32-66d3-4560-a7b6-ba9b2384994a"
      },
      "source": [
        "##Try plotting data from numpy array to make sure that reshaping is correct##\n",
        "classes = {0: 'cats',\n",
        "           1: 'dogs'}\n",
        "\n",
        "def show_images(X, y, idx) :\n",
        "  image = X[:,idx]\n",
        "  image = image.reshape((IMG_HEIGHT, IMG_WIDTH, 3))\n",
        "  plt.figure(figsize=(4,4))\n",
        "  plt.imshow(image)\n",
        "  plt.title(\"This is a {}\".format(classes[y[idx]]))\n",
        "  plt.show()\n",
        "\n",
        "show_images(X_train, y_train, 1)"
      ],
      "execution_count": 10,
      "outputs": [
        {
          "output_type": "display_data",
          "data": {
            "image/png": "[encoded data removed]",
            "text/plain": [
              "<Figure size 288x288 with 1 Axes>"
            ]
          },
          "metadata": {
            "tags": []
          }
        }
      ]
    },
    {
      "cell_type": "markdown",
      "metadata": {
        "id": "TK6iaEL8v3N9",
        "colab_type": "text"
      },
      "source": [
        "***Model1: Logistic regression***"
      ]
    },
    {
      "cell_type": "code",
      "metadata": {
        "id": "-j-SwMxAVTnP",
        "colab_type": "code",
        "colab": {
          "base_uri": "https://localhost:8080/",
          "height": 34
        },
        "outputId": "799ab246-2660-4a14-b5c9-aedc46a6409a"
      },
      "source": [
        "##Perform logistic regression##\n",
        "from sklearn.linear_model import LogisticRegression\n",
        "from sklearn.metrics import accuracy_score\n",
        "\n",
        "##Data##\n",
        "X_train_lr, y_train_lr = X_train.T, y_train.T.ravel()\n",
        "X_val_lr, y_val_lr = X_val.T, y_val.T.ravel()\n",
        "\n",
        "##Model##\n",
        "clf = LogisticRegression(verbose = False, max_iter=1000)\n",
        "clf.fit(X_train_lr, y_train_lr)\n",
        "\n",
        "##Performance##\n",
        "test_pred = clf.predict(X_val.T)\n",
        "accuracy_score(y_val.T, test_pred)"
      ],
      "execution_count": 12,
      "outputs": [
        {
          "output_type": "execute_result",
          "data": {
            "text/plain": [
              "0.551"
            ]
          },
          "metadata": {
            "tags": []
          },
          "execution_count": 12
        }
      ]
    },
    {
      "cell_type": "markdown",
      "metadata": {
        "id": "TP966nklv9Xf",
        "colab_type": "text"
      },
      "source": [
        "***Model2: Linear regression***"
      ]
    },
    {
      "cell_type": "code",
      "metadata": {
        "id": "t5Bvc68bZilr",
        "colab_type": "code",
        "colab": {
          "base_uri": "https://localhost:8080/",
          "height": 299
        },
        "outputId": "fff76010-b3eb-41b3-d19b-35966bb61267"
      },
      "source": [
        "##Perform linear regression##\n",
        "from sklearn.linear_model import LinearRegression\n",
        "from sklearn.metrics import roc_curve\n",
        "from sklearn.metrics import roc_auc_score\n",
        "\n",
        "##Data##\n",
        "X_train_lr, y_train_lr = X_train.T, y_train.T.ravel()\n",
        "X_val_lr, y_val_lr = X_val.T, y_val.T.ravel()\n",
        "\n",
        "##Model##\n",
        "clf = LinearRegression()\n",
        "clf.fit(X_train_lr, y_train_lr)\n",
        "\n",
        "##Performance##\n",
        "#AUC##\n",
        "auc = roc_auc_score(y_val_lr, test_pred)\n",
        "print(auc)\n",
        "\n",
        "##AUC curve##\n",
        "fpr, tpr, _ = roc_curve(y_val_lr, test_pred)\n",
        "plt.plot(fpr, tpr, linestyle='--')"
      ],
      "execution_count": 14,
      "outputs": [
        {
          "output_type": "stream",
          "text": [
            "0.551\n"
          ],
          "name": "stdout"
        },
        {
          "output_type": "execute_result",
          "data": {
            "text/plain": [
              "[<matplotlib.lines.Line2D at 0x7f8e00933780>]"
            ]
          },
          "metadata": {
            "tags": []
          },
          "execution_count": 14
        },
        {
          "output_type": "display_data",
          "data": {
            "image/png": "[encoded data removed]",
            "text/plain": [
              "<Figure size 432x288 with 1 Axes>"
            ]
          },
          "metadata": {
            "tags": []
          }
        }
      ]
    },
    {
      "cell_type": "markdown",
      "metadata": {
        "id": "5bcbWo3KwCS8",
        "colab_type": "text"
      },
      "source": [
        "***Model3.1: SVM without hyper-parameter tuning***"
      ]
    },
    {
      "cell_type": "code",
      "metadata": {
        "id": "oPMiix9YkDDr",
        "colab_type": "code",
        "colab": {
          "base_uri": "https://localhost:8080/",
          "height": 34
        },
        "outputId": "bf5e6e7d-9477-4357-8d82-389e6277c2d8"
      },
      "source": [
        "##Perform SVM WITHOUT tuning##\n",
        "from sklearn.svm import SVC\n",
        "from sklearn.metrics import accuracy_score\n",
        "\n",
        "##Data\n",
        "X_train_lr, y_train_lr = X_train.T, y_train.T.ravel()\n",
        "X_val_lr, y_val_lr = X_val.T, y_val.T.ravel()\n",
        "\n",
        "##Model with no hyper-parameter tuning##\n",
        "clf = SVC()\n",
        "clf.fit(X_train_lr, y_train_lr)\n",
        "\n",
        "##Performance##\n",
        "test_pred = clf.predict(X_val_lr)\n",
        "accuracy_score(y_val_lr, test_pred)"
      ],
      "execution_count": 16,
      "outputs": [
        {
          "output_type": "execute_result",
          "data": {
            "text/plain": [
              "0.614"
            ]
          },
          "metadata": {
            "tags": []
          },
          "execution_count": 16
        }
      ]
    },
    {
      "cell_type": "markdown",
      "metadata": {
        "id": "0axqu6ESwSRA",
        "colab_type": "text"
      },
      "source": [
        "***Model3.2: SVM with hyper-parameter tuning***"
      ]
    },
    {
      "cell_type": "code",
      "metadata": {
        "id": "xPZU9g9GmRi3",
        "colab_type": "code",
        "colab": {
          "base_uri": "https://localhost:8080/",
          "height": 799
        },
        "outputId": "e87efaf6-b290-44a8-f355-c9af7c2ec676"
      },
      "source": [
        "##Perform SVM WITH tuning##\n",
        "from sklearn.svm import SVC\n",
        "from sklearn.model_selection import GridSearchCV\n",
        "from sklearn.metrics import accuracy_score\n",
        "\n",
        "#Defining parameter range##\n",
        "param_grid = {'C': [0.1, 10],  \n",
        "              'gamma': [1, 0.01], \n",
        "              'kernel': ['rbf']}  \n",
        "  \n",
        "grid = GridSearchCV(SVC(), param_grid, refit = True, verbose = 3) \n",
        "  \n",
        "##Data##\n",
        "X_train_lr, y_train_lr = X_train.T, y_train.T.ravel()\n",
        "X_val_lr, y_val_lr = X_val.T, y_val.T.ravel()\n",
        "\n",
        "#Model with grid of hyper-parameters##\n",
        "grid.fit(X_train_lr, y_train_lr)\n",
        "\n",
        "##Performance##\n",
        "test_pred = grid.predict(X_val_lr)\n",
        "accuracy_score(y_val_lr, test_pred) "
      ],
      "execution_count": 19,
      "outputs": [
        {
          "output_type": "stream",
          "text": [
            "Fitting 5 folds for each of 4 candidates, totalling 20 fits\n",
            "[CV] C=0.1, gamma=1, kernel=rbf ......................................\n"
          ],
          "name": "stdout"
        },
        {
          "output_type": "stream",
          "text": [
            "[Parallel(n_jobs=1)]: Using backend SequentialBackend with 1 concurrent workers.\n"
          ],
          "name": "stderr"
        },
        {
          "output_type": "stream",
          "text": [
            "[CV] .......... C=0.1, gamma=1, kernel=rbf, score=0.500, total=  56.9s\n",
            "[CV] C=0.1, gamma=1, kernel=rbf ......................................\n"
          ],
          "name": "stdout"
        },
        {
          "output_type": "stream",
          "text": [
            "[Parallel(n_jobs=1)]: Done   1 out of   1 | elapsed:   56.9s remaining:    0.0s\n"
          ],
          "name": "stderr"
        },
        {
          "output_type": "stream",
          "text": [
            "[CV] .......... C=0.1, gamma=1, kernel=rbf, score=0.520, total=  56.9s\n",
            "[CV] C=0.1, gamma=1, kernel=rbf ......................................\n"
          ],
          "name": "stdout"
        },
        {
          "output_type": "stream",
          "text": [
            "[Parallel(n_jobs=1)]: Done   2 out of   2 | elapsed:  1.9min remaining:    0.0s\n"
          ],
          "name": "stderr"
        },
        {
          "output_type": "stream",
          "text": [
            "[CV] .......... C=0.1, gamma=1, kernel=rbf, score=0.515, total=  56.2s\n",
            "[CV] C=0.1, gamma=1, kernel=rbf ......................................\n",
            "[CV] .......... C=0.1, gamma=1, kernel=rbf, score=0.500, total=  55.3s\n",
            "[CV] C=0.1, gamma=1, kernel=rbf ......................................\n",
            "[CV] .......... C=0.1, gamma=1, kernel=rbf, score=0.500, total=  55.6s\n",
            "[CV] C=0.1, gamma=0.01, kernel=rbf ...................................\n",
            "[CV] ....... C=0.1, gamma=0.01, kernel=rbf, score=0.492, total=  55.5s\n",
            "[CV] C=0.1, gamma=0.01, kernel=rbf ...................................\n",
            "[CV] ....... C=0.1, gamma=0.01, kernel=rbf, score=0.505, total=  55.1s\n",
            "[CV] C=0.1, gamma=0.01, kernel=rbf ...................................\n",
            "[CV] ....... C=0.1, gamma=0.01, kernel=rbf, score=0.527, total=  54.9s\n",
            "[CV] C=0.1, gamma=0.01, kernel=rbf ...................................\n",
            "[CV] ....... C=0.1, gamma=0.01, kernel=rbf, score=0.497, total=  55.1s\n",
            "[CV] C=0.1, gamma=0.01, kernel=rbf ...................................\n",
            "[CV] ....... C=0.1, gamma=0.01, kernel=rbf, score=0.500, total=  55.7s\n",
            "[CV] C=10, gamma=1, kernel=rbf .......................................\n",
            "[CV] ........... C=10, gamma=1, kernel=rbf, score=0.500, total=  56.3s\n",
            "[CV] C=10, gamma=1, kernel=rbf .......................................\n",
            "[CV] ........... C=10, gamma=1, kernel=rbf, score=0.522, total=  56.3s\n",
            "[CV] C=10, gamma=1, kernel=rbf .......................................\n",
            "[CV] ........... C=10, gamma=1, kernel=rbf, score=0.515, total=  56.4s\n",
            "[CV] C=10, gamma=1, kernel=rbf .......................................\n",
            "[CV] ........... C=10, gamma=1, kernel=rbf, score=0.500, total=  56.3s\n",
            "[CV] C=10, gamma=1, kernel=rbf .......................................\n",
            "[CV] ........... C=10, gamma=1, kernel=rbf, score=0.500, total=  56.2s\n",
            "[CV] C=10, gamma=0.01, kernel=rbf ....................................\n",
            "[CV] ........ C=10, gamma=0.01, kernel=rbf, score=0.522, total=  56.2s\n",
            "[CV] C=10, gamma=0.01, kernel=rbf ....................................\n",
            "[CV] ........ C=10, gamma=0.01, kernel=rbf, score=0.542, total=  56.2s\n",
            "[CV] C=10, gamma=0.01, kernel=rbf ....................................\n",
            "[CV] ........ C=10, gamma=0.01, kernel=rbf, score=0.532, total=  56.2s\n",
            "[CV] C=10, gamma=0.01, kernel=rbf ....................................\n",
            "[CV] ........ C=10, gamma=0.01, kernel=rbf, score=0.568, total=  56.2s\n",
            "[CV] C=10, gamma=0.01, kernel=rbf ....................................\n",
            "[CV] ........ C=10, gamma=0.01, kernel=rbf, score=0.545, total=  56.5s\n"
          ],
          "name": "stdout"
        },
        {
          "output_type": "stream",
          "text": [
            "[Parallel(n_jobs=1)]: Done  20 out of  20 | elapsed: 18.7min finished\n"
          ],
          "name": "stderr"
        },
        {
          "output_type": "execute_result",
          "data": {
            "text/plain": [
              "0.552"
            ]
          },
          "metadata": {
            "tags": []
          },
          "execution_count": 19
        }
      ]
    },
    {
      "cell_type": "markdown",
      "metadata": {
        "id": "R0yF_7-KybSH",
        "colab_type": "text"
      },
      "source": [
        "It should be noted that the poor performance of SVM WITH tuning (worse than WITHOUT tuning) is due to a very small grid."
      ]
    }
  ]
}